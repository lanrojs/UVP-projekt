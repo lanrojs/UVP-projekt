{
 "cells": [
  {
   "cell_type": "markdown",
   "metadata": {},
   "source": [
    "## Analiza podatkov\n"
   ]
  },
  {
   "cell_type": "markdown",
   "metadata": {},
   "source": [
    "V tej raziskavi analiziramo različne podatke o vseh zabeleženih šahovskih partijah, ki so bile odigrane v zadnjih petih letih. Beležene so bile partije med šahisti vseh nivojev, s tem, da je poudarek predvsem na partijah šahovskih mojstrov. Podatke smo vzeli s spletne strani www.chessgames.com, kjer smo dobili sledeče podatke: imeni belega in črnega šahista, izid partije, število potez, leto in otvoritev odigrane partije. Glede na pridobljene podatke lahko obravnavamo sledeče hipoteze:\n",
    "- Najpogostejša otvoritev bo 1. e4,\n",
    "- Najpogostejša otvoritev bo v vsakem izmed zadnjih petih let enaka,\n",
    "- Med beleženimi izidi partij bo največ remijev, manj zmag belega in še manj zmag črnega,\n",
    "- Povprečno število potez v zadnjih petih let se ne bo spremenilo,\n",
    "- Odvisnost med otvoritvijo in številom potez je sledeča: Bolj kot je otvoritev \"zaprta\", večje bo povprečno število potez.\n",
    "\n",
    "Pri zadnji hipotezi s terminom \"zaprta\" otvoritev opisujemo takšno otvoritev, kjer se pomenja malo šahovskih figur, ponavadi je na šahovnici še veliko kmetov... \n",
    "\n",
    "Uvozimo najprej datoteko partije.csv."
   ]
  },
  {
   "cell_type": "code",
   "execution_count": null,
   "metadata": {},
   "outputs": [],
   "source": [
    "import pandas as pd\n",
    "partije = pd.read_csv(\"../../PROG1/IndieAnalysis/partije.csv\")"
   ]
  },
  {
   "cell_type": "code",
   "execution_count": null,
   "metadata": {},
   "outputs": [
    {
     "data": {
      "text/html": [
       "<div>\n",
       "<style scoped>\n",
       "    .dataframe tbody tr th:only-of-type {\n",
       "        vertical-align: middle;\n",
       "    }\n",
       "\n",
       "    .dataframe tbody tr th {\n",
       "        vertical-align: top;\n",
       "    }\n",
       "\n",
       "    .dataframe thead th {\n",
       "        text-align: right;\n",
       "    }\n",
       "</style>\n",
       "<table border=\"1\" class=\"dataframe\">\n",
       "  <thead>\n",
       "    <tr style=\"text-align: right;\">\n",
       "      <th></th>\n",
       "      <th>Beli</th>\n",
       "      <th>Črni</th>\n",
       "      <th>Izid</th>\n",
       "      <th>Število potez</th>\n",
       "      <th>Leto</th>\n",
       "      <th>Otvoritev</th>\n",
       "    </tr>\n",
       "  </thead>\n",
       "  <tbody>\n",
       "    <tr>\n",
       "      <th>0</th>\n",
       "      <td>T Kett</td>\n",
       "      <td>M A Ismail</td>\n",
       "      <td>Črni zmaga</td>\n",
       "      <td>36</td>\n",
       "      <td>2023</td>\n",
       "      <td>Caro-Kann Defense</td>\n",
       "    </tr>\n",
       "    <tr>\n",
       "      <th>1</th>\n",
       "      <td>A A Gorgun</td>\n",
       "      <td>K Hryshchenko</td>\n",
       "      <td>Črni zmaga</td>\n",
       "      <td>23</td>\n",
       "      <td>2023</td>\n",
       "      <td>Robatsch</td>\n",
       "    </tr>\n",
       "    <tr>\n",
       "      <th>2</th>\n",
       "      <td>G Miller</td>\n",
       "      <td>M Payne</td>\n",
       "      <td>Črni zmaga</td>\n",
       "      <td>27</td>\n",
       "      <td>2023</td>\n",
       "      <td>English</td>\n",
       "    </tr>\n",
       "    <tr>\n",
       "      <th>3</th>\n",
       "      <td>Julia Ostensson</td>\n",
       "      <td>B Amin</td>\n",
       "      <td>Črni zmaga</td>\n",
       "      <td>18</td>\n",
       "      <td>2023</td>\n",
       "      <td>Four Knights</td>\n",
       "    </tr>\n",
       "    <tr>\n",
       "      <th>4</th>\n",
       "      <td>T Keinanen</td>\n",
       "      <td>Ludvig Morell</td>\n",
       "      <td>Črni zmaga</td>\n",
       "      <td>19</td>\n",
       "      <td>2023</td>\n",
       "      <td>Uncommon King's Pawn Opening</td>\n",
       "    </tr>\n",
       "    <tr>\n",
       "      <th>...</th>\n",
       "      <td>...</td>\n",
       "      <td>...</td>\n",
       "      <td>...</td>\n",
       "      <td>...</td>\n",
       "      <td>...</td>\n",
       "      <td>...</td>\n",
       "    </tr>\n",
       "    <tr>\n",
       "      <th>131691</th>\n",
       "      <td>S Terentiev</td>\n",
       "      <td>A Balaji</td>\n",
       "      <td>Remi</td>\n",
       "      <td>48</td>\n",
       "      <td>2019</td>\n",
       "      <td>English</td>\n",
       "    </tr>\n",
       "    <tr>\n",
       "      <th>131692</th>\n",
       "      <td>R Edouard</td>\n",
       "      <td>M Bagi</td>\n",
       "      <td>Remi</td>\n",
       "      <td>66</td>\n",
       "      <td>2019</td>\n",
       "      <td>English, Symmetrical</td>\n",
       "    </tr>\n",
       "    <tr>\n",
       "      <th>131693</th>\n",
       "      <td>Sengupta</td>\n",
       "      <td>R Bates</td>\n",
       "      <td>Remi</td>\n",
       "      <td>62</td>\n",
       "      <td>2019</td>\n",
       "      <td>King's Indian</td>\n",
       "    </tr>\n",
       "    <tr>\n",
       "      <th>131694</th>\n",
       "      <td>O Willson</td>\n",
       "      <td>A Fishbein</td>\n",
       "      <td>Remi</td>\n",
       "      <td>51</td>\n",
       "      <td>2019</td>\n",
       "      <td>King's Indian</td>\n",
       "    </tr>\n",
       "    <tr>\n",
       "      <th>131695</th>\n",
       "      <td>S Foisor</td>\n",
       "      <td>M Chetverik</td>\n",
       "      <td>Remi</td>\n",
       "      <td>44</td>\n",
       "      <td>2019</td>\n",
       "      <td>Dutch</td>\n",
       "    </tr>\n",
       "  </tbody>\n",
       "</table>\n",
       "<p>131696 rows × 6 columns</p>\n",
       "</div>"
      ],
      "text/plain": [
       "                   Beli           Črni        Izid  Število potez  Leto  \\\n",
       "0                T Kett     M A Ismail  Črni zmaga             36  2023   \n",
       "1            A A Gorgun  K Hryshchenko  Črni zmaga             23  2023   \n",
       "2              G Miller        M Payne  Črni zmaga             27  2023   \n",
       "3       Julia Ostensson         B Amin  Črni zmaga             18  2023   \n",
       "4            T Keinanen  Ludvig Morell  Črni zmaga             19  2023   \n",
       "...                 ...            ...         ...            ...   ...   \n",
       "131691      S Terentiev       A Balaji        Remi             48  2019   \n",
       "131692        R Edouard         M Bagi        Remi             66  2019   \n",
       "131693         Sengupta        R Bates        Remi             62  2019   \n",
       "131694        O Willson     A Fishbein        Remi             51  2019   \n",
       "131695         S Foisor    M Chetverik        Remi             44  2019   \n",
       "\n",
       "                           Otvoritev  \n",
       "0                  Caro-Kann Defense  \n",
       "1                           Robatsch  \n",
       "2                            English  \n",
       "3                       Four Knights  \n",
       "4       Uncommon King's Pawn Opening  \n",
       "...                              ...  \n",
       "131691                       English  \n",
       "131692          English, Symmetrical  \n",
       "131693                 King's Indian  \n",
       "131694                 King's Indian  \n",
       "131695                         Dutch  \n",
       "\n",
       "[131696 rows x 6 columns]"
      ]
     },
     "execution_count": 2,
     "metadata": {},
     "output_type": "execute_result"
    }
   ],
   "source": [
    "partije"
   ]
  },
  {
   "cell_type": "markdown",
   "metadata": {},
   "source": [
    "### Najpogostejša otvoritev"
   ]
  },
  {
   "cell_type": "markdown",
   "metadata": {},
   "source": [
    "Želimo ugotoviti, katera otvoritev je bila v zadnjih petih letih najpogostejša. Zato partije grupiramo po otvoritvi in število partij v otvoritvah prikažemo padajoče."
   ]
  },
  {
   "cell_type": "code",
   "execution_count": null,
   "metadata": {},
   "outputs": [
    {
     "data": {
      "text/plain": [
       "Otvoritev\n",
       "Queen's Pawn Game                              10999\n",
       "English                                         7911\n",
       "Sicilian                                        7122\n",
       "Queen's Gambit Declined                         5773\n",
       "Reti Opening                                    5081\n",
       "Ruy Lopez                                       4078\n",
       "Giuoco Piano                                    3527\n",
       "King's Indian Attack                            3155\n",
       "Sicilian, Najdorf                               3144\n",
       "Queen's Gambit Declined Slav                    3046\n",
       "King's Indian                                   2854\n",
       "Caro-Kann Defense                               2352\n",
       "Sicilian, Canal-Sokolsky (Rossolimo) Attack     2000\n",
       "Queen's Gambit Declined Semi-Slav               1988\n",
       "Queen's Indian                                  1930\n",
       "dtype: int64"
      ]
     },
     "execution_count": 4,
     "metadata": {},
     "output_type": "execute_result"
    }
   ],
   "source": [
    "popularne_otvoritve = partije.groupby('Otvoritev').size().sort_values(ascending=False).head(15)\n",
    "popularne_otvoritve"
   ]
  },
  {
   "cell_type": "markdown",
   "metadata": {},
   "source": [
    "Vidimo, da so daleč najbolj pogoste otvoritev daminega kmeta (oziroma 1. d4), angleška (oziroma 1. c4) in na tretjem mestu sicilijanska, ki je v resnici otvoritev, za katero se odloči črni (oziroma 1. e4 c4). \n",
    "V skladu s hipotezo je, da je otvoritev 1. d4 na prvem mestu, kar pa je zanimivo je, da je otvoritev 1. c4 navidezno pred otvoritvijo 1. e4. Vendar to ne drži. Z nekaj šahovskega znanja vemo, da je sicilijanska zgolj ena izmed mnogih podvariant otvoritve 1. e4, obstajajo še druge, ki so na seznamu, npr. Ruy Lopez, Giuoco Piano, Najdorf... Če bi torej združili vse podvariante, ki se začnejo s potezo e4, in jim dali skupno ime, bi bila le-ta zagotovo na prvem mestu. Hipoteza torej drži.\n"
   ]
  },
  {
   "cell_type": "code",
   "execution_count": null,
   "metadata": {},
   "outputs": [
    {
     "name": "stdout",
     "output_type": "stream",
     "text": [
      "#============================#\n",
      " 2019:      Queen's Pawn Game\n",
      " 2020:      Queen's Pawn Game\n",
      " 2021:      Queen's Pawn Game\n",
      " 2022:      Queen's Pawn Game\n",
      " 2023:      Queen's Pawn Game\n",
      "#============================#\n"
     ]
    }
   ],
   "source": [
    "\n",
    "print('#============================#')\n",
    "for leto in range(2019, 2024):\n",
    "    partije_za_to_leto = partije[partije['Leto'] == leto]\n",
    "    print(f' {leto}:     ', partije_za_to_leto['Otvoritev'].mode().iloc[0])\n",
    "print('#============================#')\n",
    "\n",
    "# partije_za_2023 = partije[partije['Leto'] == 2023]\n",
    "# temp = partije_za_2023['Otvoritev'].groupby('Otvoritev').size()"
   ]
  },
  {
   "cell_type": "markdown",
   "metadata": {},
   "source": [
    "Zanima nas še, ali se najpogostejša otvoritev skozi leta spreminja ali ostaja enaka. S seznama je jasno razvidno, da je 1. d4 na prvem mestu vsa leta. Ker smo za vzorec podatkov vzeli zgolj zadnjih pet let, to zagotovo ni presenetljivo. Če bi želeli temeljito preučevati, kako se je popularnost posameznih otvoritev spreminjala skozi čas, bi za vzorec potrebovali vzeti vse partije izpred nekaj stoletij. Zanimivo bi bilo tudi primerjati popularnosti otvoritev 1. e4 in 1. d4 skozi zgodovino. "
   ]
  },
  {
   "cell_type": "markdown",
   "metadata": {},
   "source": [
    "### Izidi partij"
   ]
  },
  {
   "cell_type": "markdown",
   "metadata": {},
   "source": [
    "Grupirajmo sedaj partije po številu posameznih izidov in rezultat prikažimo grafično."
   ]
  },
  {
   "cell_type": "code",
   "execution_count": null,
   "metadata": {},
   "outputs": [
    {
     "data": {
      "text/plain": [
       "Izid\n",
       "Beli zmaga    49490\n",
       "Remi          44158\n",
       "Črni zmaga    38048\n",
       "dtype: int64"
      ]
     },
     "execution_count": 30,
     "metadata": {},
     "output_type": "execute_result"
    }
   ],
   "source": [
    "partije.groupby('Izid').size()"
   ]
  },
  {
   "cell_type": "code",
   "execution_count": null,
   "metadata": {},
   "outputs": [
    {
     "data": {
      "text/plain": [
       "<AxesSubplot: xlabel='Izid'>"
      ]
     },
     "execution_count": 29,
     "metadata": {},
     "output_type": "execute_result"
    },
    {
     "data": {
      "image/png": "[encoded data removed]",
      "text/plain": [
       "<Figure size 640x480 with 1 Axes>"
      ]
     },
     "metadata": {},
     "output_type": "display_data"
    }
   ],
   "source": [
    "partije.groupby('Izid').size().plot.bar(x='Izid')"
   ]
  },
  {
   "cell_type": "markdown",
   "metadata": {},
   "source": [
    "Z grafa preberemo, da je največ partij se končalo z zmago belega, nekaj manj je bilo remijev in najmanj zmag črnega. To se ne sklada s hipotezo, neskladje bi osebno razložil tako: Če bi analizirali podatke zgolj partij med velemojstri (najvišji naziv v šahovskem svetu), bi bilo zagotovo največ remijev, saj preprosto delajo manj napak. V šahu ima v začetku rahlo prednost beli, ker ima na voljo začetno potezo. Ta začetna poteza igra v velemojstrskih partijah manjšo vlogo kot v partijah nižjekategornikov. Ker smo vzeli podatke o partijah, ki so jih igrali šahisti vseh kategorij, je bilo več zmag belega kot remijev. "
   ]
  },
  {
   "cell_type": "markdown",
   "metadata": {},
   "source": [
    "### Povprečno število potez"
   ]
  },
  {
   "cell_type": "code",
   "execution_count": 32,
   "metadata": {},
   "outputs": [
    {
     "data": {
      "text/html": [
       "<div>\n",
       "<style scoped>\n",
       "    .dataframe tbody tr th:only-of-type {\n",
       "        vertical-align: middle;\n",
       "    }\n",
       "\n",
       "    .dataframe tbody tr th {\n",
       "        vertical-align: top;\n",
       "    }\n",
       "\n",
       "    .dataframe thead th {\n",
       "        text-align: right;\n",
       "    }\n",
       "</style>\n",
       "<table border=\"1\" class=\"dataframe\">\n",
       "  <thead>\n",
       "    <tr style=\"text-align: right;\">\n",
       "      <th></th>\n",
       "      <th>Število potez</th>\n",
       "    </tr>\n",
       "    <tr>\n",
       "      <th>Leto</th>\n",
       "      <th></th>\n",
       "    </tr>\n",
       "  </thead>\n",
       "  <tbody>\n",
       "    <tr>\n",
       "      <th>2019</th>\n",
       "      <td>44.547129</td>\n",
       "    </tr>\n",
       "    <tr>\n",
       "      <th>2020</th>\n",
       "      <td>44.539158</td>\n",
       "    </tr>\n",
       "    <tr>\n",
       "      <th>2021</th>\n",
       "      <td>45.272696</td>\n",
       "    </tr>\n",
       "    <tr>\n",
       "      <th>2022</th>\n",
       "      <td>45.601823</td>\n",
       "    </tr>\n",
       "    <tr>\n",
       "      <th>2023</th>\n",
       "      <td>44.794849</td>\n",
       "    </tr>\n",
       "  </tbody>\n",
       "</table>\n",
       "</div>"
      ],
      "text/plain": [
       "      Število potez\n",
       "Leto               \n",
       "2019      44.547129\n",
       "2020      44.539158\n",
       "2021      45.272696\n",
       "2022      45.601823\n",
       "2023      44.794849"
      ]
     },
     "execution_count": 32,
     "metadata": {},
     "output_type": "execute_result"
    }
   ],
   "source": [
    "partije[['Leto', 'Število potez']].groupby('Leto').mean()"
   ]
  },
  {
   "cell_type": "markdown",
   "metadata": {},
   "source": [
    "Če partije sedaj grupiramo po povprečnem številu potez, vidimo, da povprečje niha med 45 in 46 (zaokroženo na celo število). Podobno kot pri otvoritvah, je vzorec zadnjih petih let premalo, da bi opazili večja nihanja med povprečnim številom potez skozi leta. "
   ]
  },
  {
   "cell_type": "markdown",
   "metadata": {},
   "source": [
    "### Razmerje med številom potez in otvoritvijo"
   ]
  },
  {
   "cell_type": "code",
   "execution_count": null,
   "metadata": {},
   "outputs": [
    {
     "data": {
      "text/html": [
       "<div>\n",
       "<style scoped>\n",
       "    .dataframe tbody tr th:only-of-type {\n",
       "        vertical-align: middle;\n",
       "    }\n",
       "\n",
       "    .dataframe tbody tr th {\n",
       "        vertical-align: top;\n",
       "    }\n",
       "\n",
       "    .dataframe thead th {\n",
       "        text-align: right;\n",
       "    }\n",
       "</style>\n",
       "<table border=\"1\" class=\"dataframe\">\n",
       "  <thead>\n",
       "    <tr style=\"text-align: right;\">\n",
       "      <th></th>\n",
       "      <th>Število potez</th>\n",
       "    </tr>\n",
       "    <tr>\n",
       "      <th>Otvoritev</th>\n",
       "      <th></th>\n",
       "    </tr>\n",
       "  </thead>\n",
       "  <tbody>\n",
       "    <tr>\n",
       "      <th>Sicilian, Closed, 6.Be3</th>\n",
       "      <td>67.000000</td>\n",
       "    </tr>\n",
       "    <tr>\n",
       "      <th>Nimzo-Indian, Spielmann Variation</th>\n",
       "      <td>61.000000</td>\n",
       "    </tr>\n",
       "    <tr>\n",
       "      <th>King's Indian, Four Pawns Attack, Main line</th>\n",
       "      <td>59.000000</td>\n",
       "    </tr>\n",
       "    <tr>\n",
       "      <th>Sicilian, Accelerated Fianchetto, Maroczy Bind, 6.Be3</th>\n",
       "      <td>56.285714</td>\n",
       "    </tr>\n",
       "    <tr>\n",
       "      <th>Ruy Lopez, Closed, Chigorin</th>\n",
       "      <td>53.794118</td>\n",
       "    </tr>\n",
       "    <tr>\n",
       "      <th>...</th>\n",
       "      <td>...</td>\n",
       "    </tr>\n",
       "    <tr>\n",
       "      <th>Dutch, Ilyin-Genevsky Variation with b3</th>\n",
       "      <td>32.500000</td>\n",
       "    </tr>\n",
       "    <tr>\n",
       "      <th>Nimzo-Indian, Classical, Noa Variation, 5.cd ed</th>\n",
       "      <td>31.833333</td>\n",
       "    </tr>\n",
       "    <tr>\n",
       "      <th>Benoni, Classical, 9...Re8</th>\n",
       "      <td>31.000000</td>\n",
       "    </tr>\n",
       "    <tr>\n",
       "      <th>Queen's Gambit Declined, Orthodox, Rubinstein Attack, Main line</th>\n",
       "      <td>27.000000</td>\n",
       "    </tr>\n",
       "    <tr>\n",
       "      <th>King's Indian, Samisch, Orthodox Main line</th>\n",
       "      <td>15.000000</td>\n",
       "    </tr>\n",
       "  </tbody>\n",
       "</table>\n",
       "<p>293 rows × 1 columns</p>\n",
       "</div>"
      ],
      "text/plain": [
       "                                                    Število potez\n",
       "Otvoritev                                                        \n",
       "Sicilian, Closed, 6.Be3                                 67.000000\n",
       "Nimzo-Indian, Spielmann Variation                       61.000000\n",
       "King's Indian, Four Pawns Attack, Main line             59.000000\n",
       "Sicilian, Accelerated Fianchetto, Maroczy Bind,...      56.285714\n",
       "Ruy Lopez, Closed, Chigorin                             53.794118\n",
       "...                                                           ...\n",
       "Dutch, Ilyin-Genevsky Variation with b3                 32.500000\n",
       "Nimzo-Indian, Classical, Noa Variation, 5.cd ed         31.833333\n",
       "Benoni, Classical, 9...Re8                              31.000000\n",
       "Queen's Gambit Declined, Orthodox, Rubinstein A...      27.000000\n",
       "King's Indian, Samisch, Orthodox Main line              15.000000\n",
       "\n",
       "[293 rows x 1 columns]"
      ]
     },
     "execution_count": 38,
     "metadata": {},
     "output_type": "execute_result"
    }
   ],
   "source": [
    "temp = partije[['Število potez', 'Otvoritev']]\n",
    "temp.groupby('Otvoritev').mean().sort_values('Število potez', ascending=False)"
   ]
  },
  {
   "cell_type": "markdown",
   "metadata": {},
   "source": [
    "Sedaj sortiramo vse otvoritve po padajočem povprečnem številu potez. Daleč najvišje povprečje ima zaprta varianta sicilijanske otvoritve. Nato ji sledijo nimzo-indijska, kraljevo-indijska in pospešena sicilijanska, ki praviloma veljajo za bolj odprte otvoritve. Chigorinova varianta Ruy Lopeza je zaprta.\n",
    "Zanimivo je, da kar štiri izmed petih otvoritev z najnižjim povprečnim številom potez veljajo načeloma za zaprte, razen posebna varianta nimzo-indijske, ki je praviloma odprta.\n",
    "Sklepamo lahko torej, da naša hipoteza ne drži. Osebno sem bil mnenja, da bodo partije, ki izhajajo iz odprtih otvoritev, krajše, saj se hitreje pomenjajo figure, vendar temu ni tako. "
   ]
  }
 ],
 "metadata": {
  "kernelspec": {
   "display_name": "Python 3",
   "language": "python",
   "name": "python3"
  },
  "language_info": {
   "codemirror_mode": {
    "name": "ipython",
    "version": 3
   },
   "file_extension": ".py",
   "mimetype": "text/x-python",
   "name": "python",
   "nbconvert_exporter": "python",
   "pygments_lexer": "ipython3",
   "version": "3.10.2"
  },
  "orig_nbformat": 4
 },
 "nbformat": 4,
 "nbformat_minor": 2
}
